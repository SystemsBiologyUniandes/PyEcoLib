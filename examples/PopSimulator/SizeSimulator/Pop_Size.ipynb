{
 "cells": [
  {
   "cell_type": "code",
   "execution_count": 6,
   "metadata": {},
   "outputs": [],
   "source": [
    "import sys, os\n",
    "import numpy as np\n",
    "import pandas as pd\n",
    "from matplotlib import pyplot as plt\n",
    "from scipy.stats import bayes_mvs as bayesest \n",
    "import time\n",
    "\n",
    "sys.path.insert(0, '../../../PyEcoLib')\n",
    "from PopSimulator import PopSimulator\n",
    "from simulator import Simulator\n",
    "%matplotlib inline\n",
    "\n",
    "%matplotlib inline"
   ]
  },
  {
   "cell_type": "code",
   "execution_count": 7,
   "metadata": {},
   "outputs": [],
   "source": [
    "mean_size = 3 # micron\n",
    "doubling_time = 18 #min\n",
    "tmax = 10*doubling_time #min\n",
    "sample_time = 2 #min\n",
    "div_steps = 10 \n",
    "ncells = 5000 "
   ]
  },
  {
   "cell_type": "code",
   "execution_count": 8,
   "metadata": {},
   "outputs": [],
   "source": [
    "gr = np.log(2)/doubling_time "
   ]
  },
  {
   "cell_type": "code",
   "execution_count": 9,
   "metadata": {},
   "outputs": [],
   "source": [
    "if not os.path.exists('./data'):\n",
    "    os.makedirs('./data') #data path\n",
    "if not os.path.exists('./figures'):\n",
    "    os.makedirs('./figures') #Figures path"
   ]
  },
  {
   "cell_type": "code",
   "execution_count": 12,
   "metadata": {
    "scrolled": true
   },
   "outputs": [],
   "source": [
    "sim = PopSimulator(ncells=100,gr = gr, sb=mean_size, steps = div_steps,nu=2) #Initializing the simulator"
   ]
  },
  {
   "cell_type": "code",
   "execution_count": null,
   "metadata": {},
   "outputs": [],
   "source": [
    "start = time.time()\n",
    "sim.szdyn(tmax = 7*doubling_time, sample_time = 0.1*doubling_time, FileName=  \"./data/dataPop.csv\")\n",
    "print('It took', np.int(time.time()-start), 'seconds.')"
   ]
  },
  {
   "cell_type": "code",
   "execution_count": null,
   "metadata": {},
   "outputs": [],
   "source": [
    "data1=pd.read_csv(\"./data/dataPop.csv\")\n",
    "smparr=data1.Sample.unique()\n",
    "for smp in smparr:\n",
    "    df=data1[data1.Sample==smp]\n",
    "    tt=df['time'].value_counts()\n",
    "    plt.plot(tt)\n",
    "#t=np.linspace(0,180,100)\n",
    "#plt.plot(t,2**(t/18),lw=5,c='k')\n",
    "    #t=df.time.unique()\n",
    "plt.yscale('log')"
   ]
  },
  {
   "cell_type": "code",
   "execution_count": null,
   "metadata": {
    "scrolled": true
   },
   "outputs": [],
   "source": [
    "start = time.time()\n",
    "sim.divstrat(tmax = tmax, sample_time = 0.1*doubling_time, nameDSM = \"./data/dataDSM.csv\") #Obtaining the simulation of Sd vs Sb\n",
    "print('It took', np.int(time.time()-start), 'seconds.')"
   ]
  },
  {
   "cell_type": "code",
   "execution_count": null,
   "metadata": {
    "scrolled": true
   },
   "outputs": [],
   "source": [
    "start = time.time()\n",
    "sim.szdyn(tmax = tmax, sample_time= 0.1*doubling_time, nameCRM = \"./data/dataCRM.csv\") #Simulating the size for all the cells\n",
    "print('It took', np.int(time.time()-start), 'seconds.')"
   ]
  },
  {
   "cell_type": "code",
   "execution_count": null,
   "metadata": {},
   "outputs": [],
   "source": [
    "data1=pd.read_csv(\"./data/dataCRM.csv\")\n",
    "timearray=data1.time.unique()\n",
    "\n",
    "mnszarray=[]\n",
    "cvszarray=[]\n",
    "errcv2sz=[]\n",
    "errmnsz=[]\n",
    "df=data1\n",
    "del df['time']\n",
    "for m in range(len(df)):\n",
    "    szs=df.loc[m, :].values.tolist()\n",
    "    mean_cntr, var_cntr, std_cntr = bayesest(szs,alpha=0.95)\n",
    "    mnszarray.append(np.mean(szs))\n",
    "    errmnsz.append(mean_cntr[1][1]-mean_cntr[0])\n",
    "    cvszarray.append(np.var(szs)/np.mean(szs)**2)\n",
    "    errv=(var_cntr[1][1]-var_cntr[0])/mean_cntr[0]**2+2*(mean_cntr[1][1]-mean_cntr[0])*var_cntr[0]/mean_cntr[0]**3\n",
    "    errcv2sz.append(errv)"
   ]
  },
  {
   "cell_type": "code",
   "execution_count": null,
   "metadata": {},
   "outputs": [],
   "source": [
    "fig, ax = plt.subplots(1,2, figsize=(12,4))\n",
    "data=pd.read_csv(\"./data/dataCRM.csv\")\n",
    "tt=data.time\n",
    "del data['time']\n",
    "for column in data.columns[0:10]:\n",
    "    ax[0].plot(tt/doubling_time,data[column],c=\"#B9B9B9\",label='_nolegend_')\n",
    "\n",
    "ax[0].plot(np.array(timearray)/doubling_time,mnszarray)\n",
    "ax[0].fill_between(np.array(timearray)/doubling_time,np.array(mnszarray)-np.array(errmnsz),np.array(mnszarray)+np.array(errmnsz),\n",
    "                 alpha=1, edgecolor='#4db8ff', facecolor='#4db8ff',linewidth=0,label=\"SSA\")\n",
    "\n",
    "\n",
    "ax[1].plot(np.array(timearray)/doubling_time,cvszarray)\n",
    "ax[1].fill_between(np.array(timearray)/doubling_time,np.array(cvszarray)-np.array(errcv2sz),np.array(cvszarray)+np.array(errcv2sz),\n",
    "                 alpha=1, edgecolor='#4db8ff', facecolor='#4db8ff',linewidth=0)\n",
    "\n",
    "ax[0].set_ylabel(\"$s$ $(\\mu m)$\",size=20)\n",
    "ax[1].set_ylabel(\"$C_V^2(s)$\",size=20)\n",
    "ax[0].set_xlabel(r\"$t/\\tau$\",size=20)\n",
    "ax[1].set_xlabel(r\"$t/\\tau$\",size=20)\n",
    "#ax[0].set_ylim([1,1.7])\n",
    "#ax[1].set_ylim([0,0.15])\n",
    "for l in [0,1]:\n",
    "    ax[l].set_xlim([0,7])\n",
    "    taqui=np.arange(0,8,step=1)\n",
    "    ax[l].set_xticks(np.array(taqui))\n",
    "    ax[l].grid()\n",
    "    ax[l].tick_params(axis='x', labelsize=15)\n",
    "    ax[l].tick_params(axis='y', labelsize=15)\n",
    "    for axis in ['bottom','left']:\n",
    "        ax[l].spines[axis].set_linewidth(2)\n",
    "        ax[l].tick_params(axis='both', width=2,length=6)\n",
    "    for axis in ['top','right']:\n",
    "        ax[l].spines[axis].set_linewidth(0)\n",
    "        ax[l].tick_params(axis='both', width=0,length=6)\n",
    "plt.subplots_adjust(hspace=0.3,wspace=0.3)\n",
    "taqui=np.arange(0,0.15,step=0.02)\n",
    "ax[1].set_yticks(np.array(taqui))\n",
    "\n",
    "ax[0].legend(fontsize=15)\n",
    "plt.savefig('./figures/size_statistics.svg',bbox_inches='tight')\n",
    "plt.savefig('./figures/size_statistics.png',bbox_inches='tight')"
   ]
  },
  {
   "cell_type": "code",
   "execution_count": null,
   "metadata": {},
   "outputs": [],
   "source": [
    "data2=pd.read_csv(\"./data/dataDSM.csv\")\n",
    "data2=data2[data2.time>3*doubling_time]\n",
    "fig, ax = plt.subplots(1,2, figsize=(12,4))\n",
    "ax[0].scatter(data2.S_b/np.mean(data2.S_b),(data2.S_d-data2.S_b)/np.mean(data2.S_b),s=2)\n",
    "\n",
    "quantnumber=5\n",
    "pvadd2=data2\n",
    "CV2d=[]\n",
    "delt=[]\n",
    "sb=[]\n",
    "    \n",
    "errcv2d=[]\n",
    "errdelt=[]\n",
    "errsb=[]\n",
    "for i in range(quantnumber):\n",
    "    lperv0=np.percentile(pvadd2.S_b,i*100/quantnumber)\n",
    "    hperv0=np.percentile(pvadd2.S_b,(i+1)*100/quantnumber)\n",
    "    quanta1=pvadd2[pvadd2.S_b>lperv0]\n",
    "    quanta2=quanta1[quanta1.S_b<hperv0]     \n",
    "    mean_cntr, var_cntr, std_cntr = bayesest((quanta2.S_d-quanta2.S_b)/np.mean(pvadd2.S_d-pvadd2.S_b),alpha=0.95)\n",
    "    meanv0_cntr, varv0_cntr, stdv0_cntr = bayesest(quanta2.S_b/np.mean(pvadd2.S_b),alpha=0.95)\n",
    "    CV2d.append(var_cntr[0]/mean_cntr[0]**2)\n",
    "    delt.append(mean_cntr[0])\n",
    "    sb.append(meanv0_cntr[0])\n",
    "    errv=(var_cntr[1][1]-var_cntr[0])/mean_cntr[0]**2+2*(mean_cntr[1][1]-mean_cntr[0])*var_cntr[0]/mean_cntr[0]**3\n",
    "    errcv2d.append(errv)\n",
    "    errdelt.append(mean_cntr[1][1]-mean_cntr[0])\n",
    "    errsb.append(meanv0_cntr[1][1]-meanv0_cntr[0])\n",
    "ax[0].errorbar(np.array(sb),np.array(delt),xerr=errsb,yerr=errdelt, fmt='o',mec='k',capsize=5,markersize='8',elinewidth=3,c='#0075BD',label=\"SSA\")\n",
    "ax[1].errorbar(np.array(sb),CV2d,xerr=errsb,yerr=errcv2d, fmt='o',mec='k',capsize=5,markersize='8',elinewidth=3,c='#0075BD',label=\"SSA\")\n",
    "ax[1].set_ylim([0,0.3])\n",
    "\n",
    "ax[0].set_xlabel(\"$s_b/\\overline{s_b}$\",size=20)\n",
    "ax[1].set_xlabel(\"$s_b/\\overline{s_b}$\",size=20)\n",
    "ax[0].set_ylabel(\"$\\Delta/\\overline{s_b}$\",size=15)\n",
    "ax[1].set_ylabel(\"$C_V^2(\\Delta)$\",size=15)\n",
    "for l in [0,1]:\n",
    "    ax[l].set_xlim([0.2,2])\n",
    "    ax[l].grid()\n",
    "    ax[l].tick_params(axis='x', labelsize=15)\n",
    "    ax[l].tick_params(axis='y', labelsize=15)\n",
    "    for axis in ['bottom','left']:\n",
    "        ax[l].spines[axis].set_linewidth(2)\n",
    "        ax[l].tick_params(axis='both', width=2,length=6)\n",
    "    for axis in ['top','right']:\n",
    "        ax[l].spines[axis].set_linewidth(0)\n",
    "        ax[l].tick_params(axis='both', width=0,length=6)\n",
    "\n",
    "ax[0].plot(np.array(sbar)/mean_size, np.array(deltsz)/mean_size, lw=2,c='k',label=\"Numeric\")\n",
    "ax[1].plot(np.array(sbar)/mean_size, cv2sz, lw=2,c='k',label=\"Numeric\")\n",
    "ax[1].legend(fontsize=15)\n",
    "\n",
    "plt.savefig('./figures/div_strategy.eps',bbox_inches='tight')\n",
    "plt.savefig('./figures/div_strategy.svg',bbox_inches='tight')\n",
    "plt.savefig('./figures/div_strategy.png',bbox_inches='tight')"
   ]
  },
  {
   "cell_type": "code",
   "execution_count": null,
   "metadata": {},
   "outputs": [],
   "source": []
  }
 ],
 "metadata": {
  "kernelspec": {
   "display_name": "Python 3",
   "language": "python",
   "name": "python3"
  },
  "language_info": {
   "codemirror_mode": {
    "name": "ipython",
    "version": 3
   },
   "file_extension": ".py",
   "mimetype": "text/x-python",
   "name": "python",
   "nbconvert_exporter": "python",
   "pygments_lexer": "ipython3",
   "version": "3.6.4"
  }
 },
 "nbformat": 4,
 "nbformat_minor": 2
}
