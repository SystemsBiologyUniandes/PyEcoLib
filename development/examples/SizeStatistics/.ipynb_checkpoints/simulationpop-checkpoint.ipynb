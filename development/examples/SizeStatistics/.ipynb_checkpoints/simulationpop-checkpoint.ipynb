{
 "cells": [
  {
   "cell_type": "code",
   "execution_count": 1,
   "metadata": {},
   "outputs": [],
   "source": [
    "import numpy as np\n",
    "import seaborn as sns\n",
    "from matplotlib import pyplot as plt\n",
    "from scipy.stats import bayes_mvs as bayesest"
   ]
  },
  {
   "cell_type": "code",
   "execution_count": null,
   "metadata": {
    "scrolled": true
   },
   "outputs": [
    {
     "name": "stdout",
     "output_type": "stream",
     "text": [
      "0\n"
     ]
    }
   ],
   "source": [
    "ncells=1\n",
    "nsteps=10\n",
    "k=nsteps*np.log(2)\n",
    "g=np.log(2)\n",
    "t=0\n",
    "\n",
    "dt=0.08\n",
    "tmax=8\n",
    "ldata=100\n",
    "\n",
    "samples=2000\n",
    "popmax=200\n",
    "\n",
    "sizessimarr115p=np.zeros([ldata,samples])\n",
    "sizesvarsimarr115p=np.zeros([ldata,samples,popmax])\n",
    "nsimarr115p=np.zeros([ldata,samples])\n",
    "meansim115p=np.zeros([ldata,samples])\n",
    "varsim115p=np.zeros([ldata,samples])\n",
    "timesim115p=np.zeros(ldata)\n",
    "\n",
    "erromed115p=np.zeros(ldata)\n",
    "errorcv115p=np.zeros(ldata)\n",
    "Nsim115p=np.zeros(ldata)\n",
    "timesim115p=np.zeros(ldata)\n",
    "\n",
    "for l in range(samples):\n",
    "    if np.mod(l,500)==0:\n",
    "        print(l)\n",
    "    pop=[]\n",
    "    s0=0.5\n",
    "    r=np.random.rand()\n",
    "    nxt=(1/(g))*np.log(1-(g*np.log(r))/(k*s0))\n",
    "    pop.append([s0,0,0,0,nxt])\n",
    "    points=0\n",
    "    t=0   \n",
    "    tref=dt\n",
    "    while points<ldata:\n",
    "        nextt=np.min(np.array(pop)[:,4])\n",
    "        if nextt>tref-t:\n",
    "            tt=tref-t            \n",
    "            for ll in range(len(pop)):\n",
    "                pop[ll][4]+=-tt\n",
    "                pop[ll][0]=pop[ll][0]*np.exp(g*tt)\n",
    "            tref+=dt      \n",
    "            sizessimarr115p[points,l]=len(pop)*np.mean(np.array(pop)[:,0])\n",
    "            for n in range (popmax):\n",
    "                if n<len(pop):\n",
    "                    sizesvarsimarr115p[points,l,n]=pop[n][0]\n",
    "                else:\n",
    "                    sizesvarsimarr115p[points,l,n]=np.nan\n",
    "            nsimarr115p[points,l]=len(pop)\n",
    "            timesim115p[points]=t\n",
    "            if len(pop)>1:\n",
    "                meansim115p[points,l]=np.mean(np.array(pop)[:,0])\n",
    "                varsim115p[points,l]=np.var(np.array(pop)[:,0])\n",
    "            else:\n",
    "                meansim115p[points,l]=pop[0][0]\n",
    "                varsim115p[points,l]=0\n",
    "            points+=1\n",
    "\n",
    "            t+=tt\n",
    "        else:\n",
    "            m =np.argmin(np.array(pop)[:,4])\n",
    "            pop[m][3]+=1\n",
    "            pop[m][1]=0\n",
    "            for ll in range(len(pop)):\n",
    "                pop[ll][4]+=-nextt\n",
    "                pop[ll][0]=pop[ll][0]*np.exp(g*nextt)\n",
    "            if pop[m][3]>=nsteps:            \n",
    "                pop[m][3]=0\n",
    "                s0=pop[m][0]*0.5\n",
    "                pop[m][2]+=1\n",
    "                n=pop[m][2]\n",
    "                pop[m][0]=s0\n",
    "                r=np.random.rand()\n",
    "                nxt=(1/(g))*np.log(1-((g*np.log(r))/(k*s0)))\n",
    "                cell=[s0,0,n,0,nxt]\n",
    "                pop.append(cell)\n",
    "                r=np.random.rand()\n",
    "                s0=pop[m][0]\n",
    "                pop[m][4]=(1/(g))*np.log(1-((g*np.log(r))/(k*s0)))\n",
    "            else:\n",
    "                r=np.random.rand()\n",
    "                s0=pop[m][0]\n",
    "                pop[m][4]=(1/(g))*np.log(1-((g*np.log(r))/(k*s0)))\n",
    "            \n",
    "            t+=nextt\n",
    "            "
   ]
  },
  {
   "cell_type": "code",
   "execution_count": null,
   "metadata": {},
   "outputs": [],
   "source": [
    "mn115p=[]\n",
    "mnvarsim115p=[]\n",
    "errorvarsim115p=[]\n",
    "errormnsim115p=[]\n",
    "mnn115p=[]\n",
    "errormnn115p=[]\n",
    "varn115p=[]\n",
    "errorvarn115p=[]\n",
    "mnofmn115p=[]\n",
    "mnofvar115p=[]\n",
    "\n",
    "for l in range(len(sizessimarr115p)):\n",
    "    mnofmn115p.append(np.mean(meansim115p[l]))\n",
    "    mnofvar115p.append(np.mean(np.array(varsim115p[l])/np.array(meansim115p[l])**2))\n",
    "    var=0\n",
    "    mn=np.mean(sizessimarr115p[l])/np.mean(nsimarr115p[l])\n",
    "    ndat=0\n",
    "    #tempdat=np.empty()\n",
    "    w=np.array(sizesvarsimarr115p[l][0])\n",
    "    w=w[~np.isnan(w)]\n",
    "    tempdat=w\n",
    "    for m in range(1,len(sizesvarsimarr115p[l])):\n",
    "        w=np.array(sizesvarsimarr115p[l][m])\n",
    "        w=w[~np.isnan(w)]\n",
    "        tempdat=np.concatenate([tempdat,w])                \n",
    "    mean_cntr, var_cntr, std_cntr = bayesest(tempdat,alpha=0.95)\n",
    "    mn115p.append(np.mean(tempdat))\n",
    "    mnvarsim115p.append(var_cntr[0]/mean_cntr[0]**2)\n",
    "    errv=(var_cntr[1][1]-var_cntr[0])/mean_cntr[0]**2+2*(mean_cntr[1][1]-mean_cntr[0])*var_cntr[0]/mean_cntr[0]**3\n",
    "    errorvarsim115p.append(errv)\n",
    "    errormnsim115p.append(mean_cntr[1][1]-mean_cntr[0])\n",
    "    mean_cntr, var_cntr, std_cntr = bayesest(nsimarr115p[l],alpha=0.95)\n",
    "    mnn115p.append(np.mean(nsimarr115p[l]))\n",
    "    errormnn115p.append(mean_cntr[1][1]-mean_cntr[0])\n",
    "    varn115p.append(var_cntr[0]/mean_cntr[0]**2)\n",
    "    errv=(var_cntr[1][1]-var_cntr[0])/mean_cntr[0]**2+2*(mean_cntr[1][1]-mean_cntr[0])*var_cntr[0]/mean_cntr[0]**3\n",
    "    errorvarn115p.append(errv)"
   ]
  },
  {
   "cell_type": "code",
   "execution_count": null,
   "metadata": {},
   "outputs": [],
   "source": [
    "from PyEcoLib.simulator import Simulator"
   ]
  },
  {
   "cell_type": "code",
   "execution_count": null,
   "metadata": {},
   "outputs": [],
   "source": [
    "mean_size = 1 # micron\n",
    "doubling_time = 18 #min\n",
    "tmax = 18*8 #min\n",
    "sample_time = 2 #min\n",
    "div_steps = 10\n",
    "ncells = 2000\n",
    "gr = np.log(2)/doubling_time "
   ]
  },
  {
   "cell_type": "code",
   "execution_count": null,
   "metadata": {},
   "outputs": [],
   "source": [
    "v0=0.5*np.ones(5000)\n",
    "sim = Simulator(ncells=ncells, gr = gr, sb=mean_size, steps = div_steps,V0array=v0) #Initializing the simulator"
   ]
  },
  {
   "cell_type": "code",
   "execution_count": null,
   "metadata": {},
   "outputs": [],
   "source": [
    "\n",
    "\n",
    "sim.szdyn(tmax = tmax, sample_time= 0.1*doubling_time, nameCRM = \"./dataCRM.csv\") #Simulating the size for all the cells\n"
   ]
  },
  {
   "cell_type": "code",
   "execution_count": null,
   "metadata": {},
   "outputs": [],
   "source": [
    "import pandas as pd"
   ]
  },
  {
   "cell_type": "code",
   "execution_count": null,
   "metadata": {},
   "outputs": [],
   "source": [
    "data1=pd.read_csv(\"./dataCRM.csv\")\n",
    "timearray=data1.time.unique()\n",
    "\n",
    "mnszarray=[]\n",
    "cvszarray=[]\n",
    "errcv2sz=[]\n",
    "errmnsz=[]\n",
    "df=data1\n",
    "del df['time']\n",
    "for m in range(len(df)):\n",
    "    szs=df.loc[m, :].values.tolist()\n",
    "    mean_cntr, var_cntr, std_cntr = bayesest(szs,alpha=0.95)\n",
    "    mnszarray.append(np.mean(szs))\n",
    "    errmnsz.append(mean_cntr[1][1]-mean_cntr[0])\n",
    "    cvszarray.append(np.var(szs)/np.mean(szs)**2)\n",
    "    errv=(var_cntr[1][1]-var_cntr[0])/mean_cntr[0]**2+2*(mean_cntr[1][1]-mean_cntr[0])*var_cntr[0]/mean_cntr[0]**3\n",
    "    errcv2sz.append(errv)"
   ]
  },
  {
   "cell_type": "code",
   "execution_count": null,
   "metadata": {},
   "outputs": [],
   "source": [
    "fig, ax = plt.subplots(2,1, figsize=(5,8))\n",
    "ax[0].plot(timesim115p,mn115p,c='#52CE00',lw=2)\n",
    "ax[0].fill_between(timesim115p,np.array(mn115p)+np.array(errormnsim115p),#\\\n",
    "                   np.array(mn115p)-np.array(errormnsim115p),facecolor='#52CE00')\n",
    "ax[0].plot(timesim115p,np.array(mnofmn115p),c='#7D4B02',lw=2)\n",
    "ax[0].set_ylabel('Size')\n",
    "ax[0].fill_between(np.array(timearray)/doubling_time,np.array(mnszarray)-np.array(errmnsz),np.array(mnszarray)+np.array(errmnsz),\n",
    "                 alpha=1, edgecolor='#4db8ff', facecolor='#4db8ff',linewidth=0,label=\"SSA\")\n",
    "#ax[0].plot(np.array(timeanal115p),np.array(meananal115p),c='#117237',lw=2)\n",
    "\n",
    "ax[1].plot(timesim115p,mnvarsim115p,c='#52CE00',lw=2)\n",
    "ax[1].fill_between(timesim115p,np.array(mnvarsim115p)+np.array(errorvarsim115p),#\\\n",
    "                   np.array(mnvarsim115p)-np.array(errorvarsim115p),facecolor='#52CE00')\n",
    "ax[1].plot(timesim115p,np.array(mnofvar115p),c='#7D4B02',lw=2)\n",
    "ax[1].set_ylabel('$C_v^2(s)$')\n",
    "ax[1].fill_between(np.array(timearray)/doubling_time,np.array(cvszarray)-np.array(errcv2sz),np.array(cvszarray)+np.array(errcv2sz),\n",
    "                 alpha=1, edgecolor='#4db8ff', facecolor='#4db8ff',linewidth=0)\n",
    "#ax[1].plot(np.array(timeanal115p)[0:50],np.array(varanal115p)[0:50],c='#117237',lw=2)\n",
    "ax[0].grid()"
   ]
  },
  {
   "cell_type": "code",
   "execution_count": null,
   "metadata": {},
   "outputs": [],
   "source": [
    "plt.plot(timesim115p,np.array(mnn115p),c='#7D4B02',lw=2,label='Analytical')\n",
    "plt.yscale('log')"
   ]
  },
  {
   "cell_type": "code",
   "execution_count": null,
   "metadata": {},
   "outputs": [],
   "source": [
    "plt.plot(timesim115p,np.array(mnofmn115p),c='#7D4B02',lw=2,label='Analytical')\n",
    "plt.plot(timesim115p,mn115p,c='#52CE00',lw=2)\n",
    "plt.grid()"
   ]
  },
  {
   "cell_type": "code",
   "execution_count": null,
   "metadata": {},
   "outputs": [],
   "source": [
    "sys.path.insert(0, '../../PyEcoLib')\n",
    "from PopSimulator import PopSimulator\n",
    "from simulator import Simulator\n",
    "%matplotlib inline"
   ]
  },
  {
   "cell_type": "code",
   "execution_count": null,
   "metadata": {},
   "outputs": [],
   "source": [
    "v0=meanbirthsize*np.ones(ncells)\n",
    "sim = PopSimulator(ncells=2000, gr = gr, sb=meanbirthsize, steps = div_steps,V0array=v0,nu=1) #Initializing the simulator"
   ]
  },
  {
   "cell_type": "code",
   "execution_count": null,
   "metadata": {},
   "outputs": [],
   "source": []
  }
 ],
 "metadata": {
  "kernelspec": {
   "display_name": "Python 3",
   "language": "python",
   "name": "python3"
  },
  "language_info": {
   "codemirror_mode": {
    "name": "ipython",
    "version": 3
   },
   "file_extension": ".py",
   "mimetype": "text/x-python",
   "name": "python",
   "nbconvert_exporter": "python",
   "pygments_lexer": "ipython3",
   "version": "3.6.4"
  }
 },
 "nbformat": 4,
 "nbformat_minor": 2
}
